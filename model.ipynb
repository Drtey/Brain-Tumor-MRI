{
 "cells": [
  {
   "cell_type": "markdown",
   "metadata": {},
   "source": [
    "## Importing packages"
   ]
  },
  {
   "cell_type": "code",
   "execution_count": 35,
   "metadata": {
    "ExecuteTime": {
     "end_time": "2024-04-02T19:45:42.346426Z",
     "start_time": "2024-04-02T19:45:42.342450Z"
    }
   },
   "outputs": [],
   "source": [
    "import torch\n",
    "import numpy as np \n",
    "from torch.utils.data import Dataset, DataLoader, ConcatDataset\n",
    "import random\n",
    "import cv2\n",
    "import sys\n",
    "import glob\n",
    "import matplotlib.pyplot as plt\n",
    "from sklearn.metrics import confusion_matrix, accuracy_score"
   ]
  },
  {
   "cell_type": "markdown",
   "source": [
    "## Reading the images"
   ],
   "metadata": {
    "collapsed": false
   }
  },
  {
   "cell_type": "code",
   "outputs": [],
   "source": [
    "#loading and preprocessing tumor images\n",
    "#--resizing to 128x128 pixels to ensure consistency among all images\n",
    "#--color channels of the image are split into blue (b), green (g), and red (r)\n",
    "#--the channels are then merged back in the original order (since OpenCV loads images in BGR format)\n",
    "tumor = []\n",
    "healthy = []\n",
    "for f in glob.glob('./data/brain_tumor_dataset/yes/*.jpg'):\n",
    "    img = cv2.imread(f)\n",
    "    img = cv2.resize(img, (128, 128))\n",
    "    b, g, r = cv2.split(img)\n",
    "    img = cv2.merge([b, g, r])\n",
    "    tumor.append(img)\n",
    "\n",
    "for f in glob.glob('./data/brain_tumor_dataset/no/*.jpg'):\n",
    "    img = cv2.imread(f)\n",
    "    img = cv2.resize(img, (128, 128))\n",
    "    b, g, r = cv2.split(img)\n",
    "    img = cv2.merge([b, g, r])\n",
    "    healthy.append(img)"
   ],
   "metadata": {
    "collapsed": false,
    "ExecuteTime": {
     "end_time": "2024-04-02T19:45:42.637748Z",
     "start_time": "2024-04-02T19:45:42.348345Z"
    }
   },
   "execution_count": 36
  },
  {
   "cell_type": "code",
   "outputs": [],
   "source": [
    "#list to array\n",
    "healthy = np.array(healthy) \n",
    "tumor = np.array(tumor)\n",
    "#concatenate datasets\n",
    "All = np.concatenate((tumor, healthy), axis=0)"
   ],
   "metadata": {
    "collapsed": false,
    "ExecuteTime": {
     "end_time": "2024-04-02T19:45:42.648601Z",
     "start_time": "2024-04-02T19:45:42.639697Z"
    }
   },
   "execution_count": 37
  },
  {
   "cell_type": "code",
   "outputs": [
    {
     "data": {
      "text/plain": "(85, 128, 128, 3)"
     },
     "execution_count": 38,
     "metadata": {},
     "output_type": "execute_result"
    }
   ],
   "source": [
    "healthy.shape"
   ],
   "metadata": {
    "collapsed": false,
    "ExecuteTime": {
     "end_time": "2024-04-02T19:45:42.656274Z",
     "start_time": "2024-04-02T19:45:42.651045Z"
    }
   },
   "execution_count": 38
  },
  {
   "cell_type": "code",
   "outputs": [
    {
     "data": {
      "text/plain": "(86, 128, 128, 3)"
     },
     "execution_count": 39,
     "metadata": {},
     "output_type": "execute_result"
    }
   ],
   "source": [
    "tumor.shape"
   ],
   "metadata": {
    "collapsed": false,
    "ExecuteTime": {
     "end_time": "2024-04-02T19:45:42.663774Z",
     "start_time": "2024-04-02T19:45:42.658125Z"
    }
   },
   "execution_count": 39
  },
  {
   "cell_type": "code",
   "outputs": [
    {
     "data": {
      "text/plain": "array([9, 7, 5, 6, 2])"
     },
     "execution_count": 40,
     "metadata": {},
     "output_type": "execute_result"
    }
   ],
   "source": [
    "np.random.choice(10, 5, replace=False)"
   ],
   "metadata": {
    "collapsed": false,
    "ExecuteTime": {
     "end_time": "2024-04-02T19:45:42.671114Z",
     "start_time": "2024-04-02T19:45:42.665670Z"
    }
   },
   "execution_count": 40
  }
 ],
 "metadata": {
  "kernelspec": {
   "display_name": "brain-mri-env",
   "language": "python",
   "name": "python3"
  },
  "language_info": {
   "codemirror_mode": {
    "name": "ipython",
    "version": 3
   },
   "file_extension": ".py",
   "mimetype": "text/x-python",
   "name": "python",
   "nbconvert_exporter": "python",
   "pygments_lexer": "ipython3",
   "version": "3.10.12"
  }
 },
 "nbformat": 4,
 "nbformat_minor": 2
}
