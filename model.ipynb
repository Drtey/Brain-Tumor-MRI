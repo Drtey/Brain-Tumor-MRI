{
 "cells": [
  {
   "cell_type": "markdown",
   "metadata": {},
   "source": [
    "## Importing packages"
   ]
  },
  {
   "cell_type": "code",
   "execution_count": 41,
   "metadata": {
    "ExecuteTime": {
     "end_time": "2024-04-02T19:48:08.670261Z",
     "start_time": "2024-04-02T19:48:08.665810Z"
    }
   },
   "outputs": [],
   "source": [
    "import torch\n",
    "import numpy as np \n",
    "from torch.utils.data import Dataset, DataLoader, ConcatDataset\n",
    "import random\n",
    "import cv2\n",
    "import sys\n",
    "import glob\n",
    "import matplotlib.pyplot as plt\n",
    "from sklearn.metrics import confusion_matrix, accuracy_score"
   ]
  },
  {
   "cell_type": "markdown",
   "source": [
    "## Reading the images"
   ],
   "metadata": {
    "collapsed": false
   }
  },
  {
   "cell_type": "code",
   "outputs": [],
   "source": [
    "#loading and preprocessing tumor images\n",
    "#--resizing to 128x128 pixels to ensure consistency among all images\n",
    "#--color channels of the image are split into blue (b), green (g), and red (r)\n",
    "#--the channels are then merged back in the original order (since OpenCV loads images in BGR format)\n",
    "tumor = []\n",
    "healthy = []\n",
    "for f in glob.glob('./data/brain_tumor_dataset/yes/*.jpg'):\n",
    "    img = cv2.imread(f)\n",
    "    img = cv2.resize(img, (128, 128))\n",
    "    b, g, r = cv2.split(img)\n",
    "    img = cv2.merge([b, g, r])\n",
    "    tumor.append(img)\n",
    "\n",
    "for f in glob.glob('./data/brain_tumor_dataset/no/*.jpg'):\n",
    "    img = cv2.imread(f)\n",
    "    img = cv2.resize(img, (128, 128))\n",
    "    b, g, r = cv2.split(img)\n",
    "    img = cv2.merge([b, g, r])\n",
    "    healthy.append(img)"
   ],
   "metadata": {
    "collapsed": false,
    "ExecuteTime": {
     "end_time": "2024-04-02T19:48:08.988276Z",
     "start_time": "2024-04-02T19:48:08.710665Z"
    }
   },
   "execution_count": 42
  },
  {
   "cell_type": "code",
   "outputs": [],
   "source": [
    "#list to array\n",
    "healthy = np.array(healthy) \n",
    "tumor = np.array(tumor)\n",
    "#concatenate datasets\n",
    "All = np.concatenate((tumor, healthy), axis=0)"
   ],
   "metadata": {
    "collapsed": false,
    "ExecuteTime": {
     "end_time": "2024-04-02T19:48:08.999802Z",
     "start_time": "2024-04-02T19:48:08.990199Z"
    }
   },
   "execution_count": 43
  },
  {
   "cell_type": "code",
   "outputs": [
    {
     "data": {
      "text/plain": "(85, 128, 128, 3)"
     },
     "execution_count": 44,
     "metadata": {},
     "output_type": "execute_result"
    }
   ],
   "source": [
    "healthy.shape"
   ],
   "metadata": {
    "collapsed": false,
    "ExecuteTime": {
     "end_time": "2024-04-02T19:48:09.006308Z",
     "start_time": "2024-04-02T19:48:09.001630Z"
    }
   },
   "execution_count": 44
  },
  {
   "cell_type": "code",
   "outputs": [
    {
     "data": {
      "text/plain": "(86, 128, 128, 3)"
     },
     "execution_count": 45,
     "metadata": {},
     "output_type": "execute_result"
    }
   ],
   "source": [
    "tumor.shape"
   ],
   "metadata": {
    "collapsed": false,
    "ExecuteTime": {
     "end_time": "2024-04-02T19:48:09.013459Z",
     "start_time": "2024-04-02T19:48:09.008740Z"
    }
   },
   "execution_count": 45
  },
  {
   "cell_type": "code",
   "outputs": [
    {
     "data": {
      "text/plain": "array([9, 2, 0, 6, 3])"
     },
     "execution_count": 46,
     "metadata": {},
     "output_type": "execute_result"
    }
   ],
   "source": [
    "np.random.choice(10, 5, replace=False)"
   ],
   "metadata": {
    "collapsed": false,
    "ExecuteTime": {
     "end_time": "2024-04-02T19:48:09.020004Z",
     "start_time": "2024-04-02T19:48:09.014830Z"
    }
   },
   "execution_count": 46
  }
 ],
 "metadata": {
  "kernelspec": {
   "display_name": "brain-mri-env",
   "language": "python",
   "name": "python3"
  },
  "language_info": {
   "codemirror_mode": {
    "name": "ipython",
    "version": 3
   },
   "file_extension": ".py",
   "mimetype": "text/x-python",
   "name": "python",
   "nbconvert_exporter": "python",
   "pygments_lexer": "ipython3",
   "version": "3.10.12"
  }
 },
 "nbformat": 4,
 "nbformat_minor": 2
}
